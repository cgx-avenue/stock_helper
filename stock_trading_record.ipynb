{
 "cells": [
  {
   "cell_type": "code",
   "execution_count": 54,
   "metadata": {},
   "outputs": [],
   "source": [
    "from nicegui import ui, app\n",
    "import re\n",
    "import os\n",
    "import sqlite3\n",
    "import datetime\n",
    "import pandas as pd\n",
    "import plotly.graph_objects as go"
   ]
  },
  {
   "cell_type": "code",
   "execution_count": 55,
   "metadata": {},
   "outputs": [
    {
     "name": "stdout",
     "output_type": "stream",
     "text": [
      "(10, 8)\n"
     ]
    },
    {
     "data": {
      "text/html": [
       "<div>\n",
       "<style scoped>\n",
       "    .dataframe tbody tr th:only-of-type {\n",
       "        vertical-align: middle;\n",
       "    }\n",
       "\n",
       "    .dataframe tbody tr th {\n",
       "        vertical-align: top;\n",
       "    }\n",
       "\n",
       "    .dataframe thead th {\n",
       "        text-align: right;\n",
       "    }\n",
       "</style>\n",
       "<table border=\"1\" class=\"dataframe\">\n",
       "  <thead>\n",
       "    <tr style=\"text-align: right;\">\n",
       "      <th></th>\n",
       "      <th>code</th>\n",
       "      <th>stock_name</th>\n",
       "      <th>timestamp</th>\n",
       "      <th>action</th>\n",
       "      <th>price</th>\n",
       "      <th>quantity</th>\n",
       "      <th>amount</th>\n",
       "      <th>fee</th>\n",
       "    </tr>\n",
       "  </thead>\n",
       "  <tbody>\n",
       "    <tr>\n",
       "      <th>0</th>\n",
       "      <td>515790</td>\n",
       "      <td>光伏ETF</td>\n",
       "      <td>2024-02-22 10:00:00</td>\n",
       "      <td>BUY</td>\n",
       "      <td>0.811</td>\n",
       "      <td>1500</td>\n",
       "      <td>1216.62</td>\n",
       "      <td>0.12</td>\n",
       "    </tr>\n",
       "    <tr>\n",
       "      <th>1</th>\n",
       "      <td>515790</td>\n",
       "      <td>光伏ETF</td>\n",
       "      <td>2023-09-27 11:22:55</td>\n",
       "      <td>BUY</td>\n",
       "      <td>1.000</td>\n",
       "      <td>300</td>\n",
       "      <td>300.10</td>\n",
       "      <td>0.10</td>\n",
       "    </tr>\n",
       "    <tr>\n",
       "      <th>2</th>\n",
       "      <td>515790</td>\n",
       "      <td>光伏ETF</td>\n",
       "      <td>2023-09-11 13:45:08</td>\n",
       "      <td>BUY</td>\n",
       "      <td>1.020</td>\n",
       "      <td>1000</td>\n",
       "      <td>1020.10</td>\n",
       "      <td>0.10</td>\n",
       "    </tr>\n",
       "    <tr>\n",
       "      <th>3</th>\n",
       "      <td>515790</td>\n",
       "      <td>光伏ETF</td>\n",
       "      <td>2023-09-04 14:07:42</td>\n",
       "      <td>SELL</td>\n",
       "      <td>1.050</td>\n",
       "      <td>1000</td>\n",
       "      <td>1049.89</td>\n",
       "      <td>0.11</td>\n",
       "    </tr>\n",
       "    <tr>\n",
       "      <th>4</th>\n",
       "      <td>515790</td>\n",
       "      <td>光伏ETF</td>\n",
       "      <td>2023-09-04 13:44:22</td>\n",
       "      <td>SELL</td>\n",
       "      <td>1.060</td>\n",
       "      <td>1000</td>\n",
       "      <td>1059.89</td>\n",
       "      <td>0.11</td>\n",
       "    </tr>\n",
       "    <tr>\n",
       "      <th>5</th>\n",
       "      <td>515790</td>\n",
       "      <td>光伏ETF</td>\n",
       "      <td>2023-08-29 14:53:28</td>\n",
       "      <td>BUY</td>\n",
       "      <td>1.055</td>\n",
       "      <td>1000</td>\n",
       "      <td>1055.11</td>\n",
       "      <td>0.11</td>\n",
       "    </tr>\n",
       "    <tr>\n",
       "      <th>6</th>\n",
       "      <td>515790</td>\n",
       "      <td>光伏ETF</td>\n",
       "      <td>2023-08-29 14:00:59</td>\n",
       "      <td>BUY</td>\n",
       "      <td>1.060</td>\n",
       "      <td>1000</td>\n",
       "      <td>1060.11</td>\n",
       "      <td>0.11</td>\n",
       "    </tr>\n",
       "    <tr>\n",
       "      <th>7</th>\n",
       "      <td>515790</td>\n",
       "      <td>光伏ETF</td>\n",
       "      <td>2023-08-28 14:16:32</td>\n",
       "      <td>BUY</td>\n",
       "      <td>1.040</td>\n",
       "      <td>2000</td>\n",
       "      <td>2080.21</td>\n",
       "      <td>0.21</td>\n",
       "    </tr>\n",
       "    <tr>\n",
       "      <th>8</th>\n",
       "      <td>515790</td>\n",
       "      <td>光伏ETF</td>\n",
       "      <td>2023-08-28 14:12:43</td>\n",
       "      <td>SELL</td>\n",
       "      <td>1.070</td>\n",
       "      <td>2000</td>\n",
       "      <td>2139.79</td>\n",
       "      <td>0.21</td>\n",
       "    </tr>\n",
       "    <tr>\n",
       "      <th>9</th>\n",
       "      <td>515790</td>\n",
       "      <td>光伏ETF</td>\n",
       "      <td>2023-07-21 15:44:25</td>\n",
       "      <td>BUY</td>\n",
       "      <td>1.160</td>\n",
       "      <td>2000</td>\n",
       "      <td>2320.23</td>\n",
       "      <td>0.23</td>\n",
       "    </tr>\n",
       "  </tbody>\n",
       "</table>\n",
       "</div>"
      ],
      "text/plain": [
       "     code stock_name            timestamp action  price  quantity   amount  \\\n",
       "0  515790      光伏ETF  2024-02-22 10:00:00    BUY  0.811      1500  1216.62   \n",
       "1  515790      光伏ETF  2023-09-27 11:22:55    BUY  1.000       300   300.10   \n",
       "2  515790      光伏ETF  2023-09-11 13:45:08    BUY  1.020      1000  1020.10   \n",
       "3  515790      光伏ETF  2023-09-04 14:07:42   SELL  1.050      1000  1049.89   \n",
       "4  515790      光伏ETF  2023-09-04 13:44:22   SELL  1.060      1000  1059.89   \n",
       "5  515790      光伏ETF  2023-08-29 14:53:28    BUY  1.055      1000  1055.11   \n",
       "6  515790      光伏ETF  2023-08-29 14:00:59    BUY  1.060      1000  1060.11   \n",
       "7  515790      光伏ETF  2023-08-28 14:16:32    BUY  1.040      2000  2080.21   \n",
       "8  515790      光伏ETF  2023-08-28 14:12:43   SELL  1.070      2000  2139.79   \n",
       "9  515790      光伏ETF  2023-07-21 15:44:25    BUY  1.160      2000  2320.23   \n",
       "\n",
       "    fee  \n",
       "0  0.12  \n",
       "1  0.10  \n",
       "2  0.10  \n",
       "3  0.11  \n",
       "4  0.11  \n",
       "5  0.11  \n",
       "6  0.11  \n",
       "7  0.21  \n",
       "8  0.21  \n",
       "9  0.23  "
      ]
     },
     "execution_count": 55,
     "metadata": {},
     "output_type": "execute_result"
    }
   ],
   "source": [
    "conn = sqlite3.connect('stock_trading_records.db')\n",
    "cur = conn.cursor()\n",
    "def get_all_records():\n",
    "    all_records = pd.read_sql(\n",
    "        \"select code,stock_name,timestamp,action,price,quantity,amount,fee from stock_trading_record order by timestamp desc\", con=conn)\n",
    "    print(all_records.shape)\n",
    "    return all_records\n",
    "\n",
    "df_all_records = get_all_records()\n",
    "df_all_records"
   ]
  },
  {
   "cell_type": "code",
   "execution_count": 56,
   "metadata": {},
   "outputs": [
    {
     "name": "stderr",
     "output_type": "stream",
     "text": [
      "/tmp/ipykernel_1077053/2992719583.py:4: FutureWarning: The provided callable <built-in function sum> is currently using SeriesGroupBy.sum. In a future version of pandas, the provided callable will be used directly. To keep current behavior pass the string \"sum\" instead.\n",
      "  temp = df.groupby(['code', 'stock_name', 'action']).agg(\n",
      "/tmp/ipykernel_1077053/2992719583.py:4: FutureWarning: The provided callable <built-in function sum> is currently using SeriesGroupBy.sum. In a future version of pandas, the provided callable will be used directly. To keep current behavior pass the string \"sum\" instead.\n",
      "  temp = df.groupby(['code', 'stock_name', 'action']).agg(\n"
     ]
    },
    {
     "data": {
      "text/html": [
       "<div>\n",
       "<style scoped>\n",
       "    .dataframe tbody tr th:only-of-type {\n",
       "        vertical-align: middle;\n",
       "    }\n",
       "\n",
       "    .dataframe tbody tr th {\n",
       "        vertical-align: top;\n",
       "    }\n",
       "\n",
       "    .dataframe thead th {\n",
       "        text-align: right;\n",
       "    }\n",
       "</style>\n",
       "<table border=\"1\" class=\"dataframe\">\n",
       "  <thead>\n",
       "    <tr style=\"text-align: right;\">\n",
       "      <th></th>\n",
       "      <th>code</th>\n",
       "      <th>stock_name</th>\n",
       "      <th>stock_quantity</th>\n",
       "      <th>stock_amount</th>\n",
       "      <th>stock_cost</th>\n",
       "    </tr>\n",
       "  </thead>\n",
       "  <tbody>\n",
       "    <tr>\n",
       "      <th>0</th>\n",
       "      <td>515790</td>\n",
       "      <td>光伏ETF</td>\n",
       "      <td>4800.0</td>\n",
       "      <td>4802.91</td>\n",
       "      <td>1.000606</td>\n",
       "    </tr>\n",
       "  </tbody>\n",
       "</table>\n",
       "</div>"
      ],
      "text/plain": [
       "     code stock_name  stock_quantity  stock_amount  stock_cost\n",
       "0  515790      光伏ETF          4800.0       4802.91    1.000606"
      ]
     },
     "execution_count": 56,
     "metadata": {},
     "output_type": "execute_result"
    }
   ],
   "source": [
    "def get_overview_table():\n",
    "    # df=get_all_records()\n",
    "    df = df_all_records.copy()\n",
    "    temp = df.groupby(['code', 'stock_name', 'action']).agg(\n",
    "        {'amount': sum, 'quantity': sum})\n",
    "    temp.columns = ['total_amount', 'total_quantity']\n",
    "    temp.reset_index(inplace=True)\n",
    "    # print(temp)\n",
    "    temp = temp.sort_values(['code', 'action'], ascending=[True, True])\n",
    "    temp['stock_quantity'] = temp['total_quantity'] - \\\n",
    "        temp['total_quantity'].shift(-1)\n",
    "    temp['stock_amount'] = temp['total_amount']-temp['total_amount'].shift(-1)\n",
    "    temp = temp[temp['action'] == 'BUY']\n",
    "\n",
    "    for index, row in temp.iterrows():\n",
    "        if int(row['stock_quantity']) < 0:\n",
    "            temp.loc[index, 'stock_quantity'] = row['total_quantity']\n",
    "            temp.loc[index, 'stock_amount'] = row['total_amount']\n",
    "\n",
    "    temp['stock_cost'] = temp['stock_amount'].apply(\n",
    "        lambda x: float(x))/temp['stock_quantity']\n",
    "    \n",
    "    temp = temp.drop(['action', 'total_quantity', 'total_amount'], axis=1)\n",
    "\n",
    "    return temp\n",
    "\n",
    "\n",
    "df_overview = get_overview_table()\n",
    "df_overview\n"
   ]
  },
  {
   "cell_type": "code",
   "execution_count": 57,
   "metadata": {},
   "outputs": [
    {
     "data": {
      "text/plain": [
       "['515790']"
      ]
     },
     "execution_count": 57,
     "metadata": {},
     "output_type": "execute_result"
    }
   ],
   "source": [
    "codes = list(df_overview['code'].values)\n",
    "codes"
   ]
  },
  {
   "cell_type": "code",
   "execution_count": 58,
   "metadata": {},
   "outputs": [
    {
     "name": "stdout",
     "output_type": "stream",
     "text": [
      "       代码     名称    最新价    涨跌额   涨跌幅        成交量          成交额    开盘价    最高价  \\\n",
      "3  515790  光伏ETF  0.868  0.018  2.12  3625053.0  316289241.0  0.852  0.882   \n",
      "\n",
      "     最低价    昨收   换手率         流通市值          总市值  \n",
      "3  0.852  0.85  3.08  10202032806  10202032806  \n"
     ]
    }
   ],
   "source": [
    "import akshare as ak\n",
    "gfetf=ak.fund_etf_spot_em()\n",
    "print(gfetf[gfetf['代码']=='515790'])"
   ]
  },
  {
   "cell_type": "code",
   "execution_count": 59,
   "metadata": {},
   "outputs": [
    {
     "name": "stdout",
     "output_type": "stream",
     "text": [
      "        stock_quantity  stock_amount stock_cost     名称    最新价    涨跌额   涨跌幅  \\\n",
      "code                                                                         \n",
      "515790          4800.0       4802.91      1.001  光伏ETF  0.868  0.018  2.12   \n",
      "\n",
      "          开盘价    最高价    最低价    昨收   换手率  current_amount  profit  \n",
      "code                                                             \n",
      "515790  0.852  0.882  0.852  0.85  3.08          4166.4 -636.51  \n"
     ]
    }
   ],
   "source": [
    "df=df_overview.set_index('code').join(gfetf.set_index('代码'))\n",
    "df=df.drop(['stock_name','成交量','成交额','流通市值','总市值'],axis=1)\n",
    "# convert just columns \"a\" and \"b\"\n",
    "df[[\"最新价\", \"涨跌额\",'stock_quantity','stock_amount','stock_cost']] = df[[\"最新价\", \"涨跌额\",'stock_quantity','stock_amount','stock_cost']].apply(pd.to_numeric)\n",
    "df['current_amount']=df['最新价']*df['stock_quantity']\n",
    "df['stock_cost']=df['stock_cost'].apply(lambda x: '%.3f'%x)\n",
    "df['profit']=df['current_amount']-df['stock_amount']\n",
    "print(df)"
   ]
  },
  {
   "cell_type": "code",
   "execution_count": 65,
   "metadata": {},
   "outputs": [
    {
     "name": "stdout",
     "output_type": "stream",
     "text": [
      "                  timestamp action  price  quantity   amount   fee     名称  \\\n",
      "code                                                                        \n",
      "515790  2024-02-22 10:00:00    BUY  0.811      1500  1216.62  0.12  光伏ETF   \n",
      "515790  2023-09-27 11:22:55    BUY  1.000       300   300.10  0.10  光伏ETF   \n",
      "515790  2023-09-11 13:45:08    BUY  1.020      1000  1020.10  0.10  光伏ETF   \n",
      "515790  2023-09-04 14:07:42   SELL  1.050      1000  1049.89  0.11  光伏ETF   \n",
      "515790  2023-09-04 13:44:22   SELL  1.060      1000  1059.89  0.11  光伏ETF   \n",
      "515790  2023-08-29 14:53:28    BUY  1.055      1000  1055.11  0.11  光伏ETF   \n",
      "515790  2023-08-29 14:00:59    BUY  1.060      1000  1060.11  0.11  光伏ETF   \n",
      "515790  2023-08-28 14:16:32    BUY  1.040      2000  2080.21  0.21  光伏ETF   \n",
      "515790  2023-08-28 14:12:43   SELL  1.070      2000  2139.79  0.21  光伏ETF   \n",
      "515790  2023-07-21 15:44:25    BUY  1.160      2000  2320.23  0.23  光伏ETF   \n",
      "\n",
      "          最新价  profit  \n",
      "code                   \n",
      "515790  0.868    85.5  \n",
      "515790  0.868   -39.6  \n",
      "515790  0.868  -152.0  \n",
      "515790  0.868   182.0  \n",
      "515790  0.868   192.0  \n",
      "515790  0.868  -187.0  \n",
      "515790  0.868  -192.0  \n",
      "515790  0.868  -344.0  \n",
      "515790  0.868   404.0  \n",
      "515790  0.868  -584.0  \n"
     ]
    }
   ],
   "source": [
    "# process detailed transaction data\n",
    "df=df_all_records.set_index('code').join(gfetf.set_index('代码'))\n",
    "df=df.drop(['stock_name','成交量','成交额','流通市值','总市值','涨跌额','涨跌幅','开盘价','最高价','最低价','昨收','换手率'],axis=1)\n",
    "df[[\"price\", \"quantity\",'amount','fee']] = df[[\"price\", \"quantity\",'amount','fee']].apply(pd.to_numeric)\n",
    "\n",
    "df['profit']=(df['最新价']-df['price'])*df['quantity']\n",
    "\n",
    "df['profit']=df['profit'].mask(df['action']=='SELL',df['profit']*(-1))\n",
    "\n",
    "print(df)\n"
   ]
  }
 ],
 "metadata": {
  "kernelspec": {
   "display_name": "shenv",
   "language": "python",
   "name": "python3"
  },
  "language_info": {
   "codemirror_mode": {
    "name": "ipython",
    "version": 3
   },
   "file_extension": ".py",
   "mimetype": "text/x-python",
   "name": "python",
   "nbconvert_exporter": "python",
   "pygments_lexer": "ipython3",
   "version": "3.10.13"
  }
 },
 "nbformat": 4,
 "nbformat_minor": 2
}
